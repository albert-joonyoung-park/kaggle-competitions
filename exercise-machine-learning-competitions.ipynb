{
 "cells": [
  {
   "cell_type": "markdown",
   "id": "3ce656ec",
   "metadata": {
    "papermill": {
     "duration": 0.003985,
     "end_time": "2023-07-06T03:59:22.553532",
     "exception": false,
     "start_time": "2023-07-06T03:59:22.549547",
     "status": "completed"
    },
    "tags": []
   },
   "source": [
    "**This notebook is an exercise in the [Introduction to Machine Learning](https://www.kaggle.com/learn/intro-to-machine-learning) course.  You can reference the tutorial at [this link](https://www.kaggle.com/alexisbcook/machine-learning-competitions).**\n",
    "\n",
    "---\n"
   ]
  },
  {
   "cell_type": "markdown",
   "id": "75907c61",
   "metadata": {
    "papermill": {
     "duration": 0.003142,
     "end_time": "2023-07-06T03:59:22.560687",
     "exception": false,
     "start_time": "2023-07-06T03:59:22.557545",
     "status": "completed"
    },
    "tags": []
   },
   "source": [
    "# Introduction\n",
    "\n",
    "In this exercise, you will create and submit predictions for a Kaggle competition. You can then improve your model (e.g. by adding features) to apply what you've learned and move up the leaderboard.\n",
    "\n",
    "Begin by running the code cell below to set up code checking and the filepaths for the dataset."
   ]
  },
  {
   "cell_type": "code",
   "execution_count": 1,
   "id": "6e3fc44a",
   "metadata": {
    "execution": {
     "iopub.execute_input": "2023-07-06T03:59:22.569253Z",
     "iopub.status.busy": "2023-07-06T03:59:22.568556Z",
     "iopub.status.idle": "2023-07-06T03:59:22.611111Z",
     "shell.execute_reply": "2023-07-06T03:59:22.610016Z"
    },
    "papermill": {
     "duration": 0.049468,
     "end_time": "2023-07-06T03:59:22.613360",
     "exception": false,
     "start_time": "2023-07-06T03:59:22.563892",
     "status": "completed"
    },
    "tags": []
   },
   "outputs": [],
   "source": [
    "# Set up code checking\n",
    "from learntools.core import binder\n",
    "binder.bind(globals())\n",
    "from learntools.machine_learning.ex7 import *\n",
    "\n",
    "# Set up filepaths\n",
    "import os\n",
    "if not os.path.exists(\"../input/train.csv\"):\n",
    "    os.symlink(\"../input/home-data-for-ml-course/train.csv\", \"../input/train.csv\")  \n",
    "    os.symlink(\"../input/home-data-for-ml-course/test.csv\", \"../input/test.csv\") "
   ]
  },
  {
   "cell_type": "markdown",
   "id": "a900a830",
   "metadata": {
    "papermill": {
     "duration": 0.003094,
     "end_time": "2023-07-06T03:59:22.620062",
     "exception": false,
     "start_time": "2023-07-06T03:59:22.616968",
     "status": "completed"
    },
    "tags": []
   },
   "source": [
    "Here's some of the code you've written so far. Start by running it again."
   ]
  },
  {
   "cell_type": "code",
   "execution_count": 2,
   "id": "611b1412",
   "metadata": {
    "execution": {
     "iopub.execute_input": "2023-07-06T03:59:22.628194Z",
     "iopub.status.busy": "2023-07-06T03:59:22.627869Z",
     "iopub.status.idle": "2023-07-06T03:59:24.856834Z",
     "shell.execute_reply": "2023-07-06T03:59:24.856022Z"
    },
    "papermill": {
     "duration": 2.23517,
     "end_time": "2023-07-06T03:59:24.858512",
     "exception": false,
     "start_time": "2023-07-06T03:59:22.623342",
     "status": "completed"
    },
    "tags": []
   },
   "outputs": [
    {
     "name": "stdout",
     "output_type": "stream",
     "text": [
      "[201300.8  175236.92 120064.    82248.83 144744.5  307305.72 306772.24\n",
      " 146657.41 220037.89 198315.71 176988.23  76563.55 197829.68 317593.72\n",
      " 219325.92 112204.5  112491.5  101765.   189952.26 143296.5  142527.64\n",
      " 126139.12 270314.06 316081.86  89131.   179399.28 125912.04 189188.13\n",
      " 475754.96 117064.91 126294.06 108170.04 122955.6   83684.   139141.75\n",
      " 344093.05 122897.75 101049.42 252921.74 124305.15 146066.96 143333.25\n",
      " 101120.   118431.5  182728.78 174721.74 127459.   184534.67 272793.01\n",
      " 252427.93 124094.74 285832.03 108055.5  260958.91 196328.37 100404.\n",
      " 122844.5  171970.32 129594.25 182307.82 158585.75 309196.96  95734.75\n",
      " 129718.   153498.96 131937.5  141469.85 236328.58 140533.   154680.03\n",
      " 185512.81 120166.37 312059.45 159559.   152716.5  212812.32 172477.27\n",
      " 132003.5  382545.56 187699.33 211994.44 140977.12 134658.2  151630.37\n",
      " 189786.   151986.09 159182.27 164267.66 198643.9  180292.5  190337.22\n",
      " 163168.92 122592.   117652.76 117040.46 114403.74 118849.92 142568.\n",
      " 140788.5  154870.   173968.04 129017.5  113849.37 116201.   126311.83\n",
      " 175169.78 183869.78 152415.5  146693.75 313653.16 151972.25 163227.07\n",
      " 144196.   197944.24 232193.11 172895.56 241804.64 122726.58 149359.81\n",
      " 316124.27 139590.84 244936.55 329717.45 174444.5  187914.68 173248.96\n",
      " 327102.34 122171.25 223748.81 210775.04 263505.19  93202.   126798.08\n",
      " 123791.34  97073.71 188323.67 502573.64 324659.31 262957.45 130326.5\n",
      " 136887.52 227464.39 165875.8  205553.31 102289.5  213577.65 112426.\n",
      " 205292.87 219804.95 120162.56 183464.4  172640.72 124027.5  181250.72\n",
      " 173896.45 323693.77 122405.78 147099.98 107897.05 150381.18  75976.72\n",
      " 105716.34 164834.33 146490.3  143631.5  141042.64 169153.94 137863.38\n",
      " 146894.4  120744.47 232851.36 170521.61 246099.54 299523.44 196967.1\n",
      " 135247.1  196957.7  201096.   126006.04 163337.5  127241.5  182077.93\n",
      " 154807.34 128514.26 271032.04 135174.82 389469.26 299490.07 144762.34\n",
      " 123975.5  119193.   136373.19  92666.5  192138.12 107271.   290774.2\n",
      " 214768.56 149189.   147128.    75680.04 184083.   250997.8  169231.\n",
      " 176698.85 296316.58 114036.62 193608.05 284606.81 316876.75 189746.27\n",
      " 192032.5  114474.75 169489.02 124801.58 291019.91 258901.57 124278.\n",
      "  93067.08 179432.96  87659.11 519828.73 117579.5  164331.   196767.4\n",
      " 113784.75 117538.16 219323.59 167823.06 161819.84 168677.3  125548.65\n",
      " 186249.5  108545.92 132176.13 299782.58 126358.75 305771.92 116047.14\n",
      " 142799.12 292278.92 278940.22 155405.87 123498.5  149144.97 111149.27\n",
      " 131121.87 144530.62 151329.   156395.   139998.1  125259.08 122710.\n",
      " 192130.85 164159.   132576.45 117679.5  179128.57  85501.22 324559.05\n",
      " 128777.   225059.28 132007.19 213941.28 172322.86 126036.49 188376.\n",
      " 130237.58 168447.56 155739.    96770.   185441.49 184070.07 101131.87\n",
      " 133730.6  174355.16 133987.25 110946.09 127452.16 177561.24 139727.5\n",
      " 131282.85 134780.5  135869.69 144591.27 257594.58 228661.8  126544.54\n",
      " 110149.81 265193.28 110361.56 103841.   263608.68 150921.93 121459.26\n",
      " 186018.02 215420.83 180399.   211733.64 147456.   114418.   152712.09\n",
      " 145261.5  138313.5  185046.92 143022.29 210699.24 144420.5  174247.5\n",
      " 155116.06 200540.2  152651.5  151638.23 108017.42 225844.76 152644.14\n",
      "  87547.42 258931.44 192337.1  174802.5  169870.   189696.   164065.55\n",
      " 133698.8  246476.7  129689.5  385895.96 176557.01 240550.08 142935.25\n",
      " 120814.28 133261.9  271599.85 240254.17 287274.38 178108.49 162588.76\n",
      " 141119.67 113237.08 279226.5  174787.58 217741.84 262535.16  74085.33\n",
      " 259378.77 105948.   150055.   154836.   157807.59 307160.16 107349.\n",
      " 204822.3  170365.86 355133.09 135798.75 143445.75 140779.51 190542.66\n",
      " 147485.    98066.21 301023.9  208668.28 218128.88 122117.47 273026.16\n",
      " 183050.5 ]\n",
      "Validation MAE for Random Forest Model: 17,906\n"
     ]
    }
   ],
   "source": [
    "# Import helpful libraries\n",
    "import pandas as pd\n",
    "from sklearn.ensemble import RandomForestRegressor\n",
    "from sklearn.metrics import mean_absolute_error\n",
    "from sklearn.model_selection import train_test_split\n",
    "\n",
    "# Load the data, and separate the target\n",
    "iowa_file_path = '../input/train.csv'\n",
    "home_data = pd.read_csv(iowa_file_path)\n",
    "y = home_data.SalePrice\n",
    "\n",
    "# Create X (After completing the exercise, you can return to modify this line!)\n",
    "#features = ['LotArea', 'YearBuilt', '1stFlrSF', '2ndFlrSF', 'FullBath', 'BedroomAbvGr', 'TotRmsAbvGrd']\n",
    "features = [ \n",
    "'MSSubClass',\n",
    "'LotArea',\n",
    "'OverallQual',\n",
    "'OverallCond',\n",
    "'YearBuilt',\n",
    "'YearRemodAdd',\n",
    "'1stFlrSF',\n",
    "'2ndFlrSF',\n",
    "'LowQualFinSF',\n",
    "'GrLivArea',\n",
    "'FullBath',\n",
    "'HalfBath',\n",
    "'BedroomAbvGr',\n",
    "'KitchenAbvGr',\n",
    "'TotRmsAbvGrd',\n",
    "'Fireplaces',\n",
    "'WoodDeckSF',\n",
    "'OpenPorchSF',\n",
    "'EnclosedPorch',\n",
    "'3SsnPorch',\n",
    "'ScreenPorch',\n",
    "'PoolArea',\n",
    "'MiscVal',\n",
    "'MoSold',\n",
    "'YrSold'\n",
    "]\n",
    "\n",
    "# Select columns corresponding to features, and preview the data\n",
    "X = home_data[features]\n",
    "X.head()\n",
    "\n",
    "# Split into validation and training data\n",
    "train_X, val_X, train_y, val_y = train_test_split(X, y, random_state=1)\n",
    "\n",
    "# Define a random forest model\n",
    "rf_model = RandomForestRegressor(random_state=1)\n",
    "rf_model.fit(train_X, train_y)\n",
    "rf_val_predictions = rf_model.predict(val_X)\n",
    "print(rf_val_predictions)\n",
    "rf_val_mae = mean_absolute_error(rf_val_predictions, val_y)\n",
    "\n",
    "print(\"Validation MAE for Random Forest Model: {:,.0f}\".format(rf_val_mae))"
   ]
  },
  {
   "cell_type": "markdown",
   "id": "4dcc3ec9",
   "metadata": {
    "papermill": {
     "duration": 0.003117,
     "end_time": "2023-07-06T03:59:24.865437",
     "exception": false,
     "start_time": "2023-07-06T03:59:24.862320",
     "status": "completed"
    },
    "tags": []
   },
   "source": [
    "# Train a model for the competition\n",
    "\n",
    "The code cell above trains a Random Forest model on **`train_X`** and **`train_y`**.  \n",
    "\n",
    "Use the code cell below to build a Random Forest model and train it on all of **`X`** and **`y`**."
   ]
  },
  {
   "cell_type": "code",
   "execution_count": 3,
   "id": "ce226422",
   "metadata": {
    "execution": {
     "iopub.execute_input": "2023-07-06T03:59:24.874833Z",
     "iopub.status.busy": "2023-07-06T03:59:24.874464Z",
     "iopub.status.idle": "2023-07-06T03:59:25.816592Z",
     "shell.execute_reply": "2023-07-06T03:59:25.815606Z"
    },
    "papermill": {
     "duration": 0.950632,
     "end_time": "2023-07-06T03:59:25.819307",
     "exception": false,
     "start_time": "2023-07-06T03:59:24.868675",
     "status": "completed"
    },
    "tags": []
   },
   "outputs": [
    {
     "data": {
      "text/html": [
       "<style>#sk-container-id-1 {color: black;background-color: white;}#sk-container-id-1 pre{padding: 0;}#sk-container-id-1 div.sk-toggleable {background-color: white;}#sk-container-id-1 label.sk-toggleable__label {cursor: pointer;display: block;width: 100%;margin-bottom: 0;padding: 0.3em;box-sizing: border-box;text-align: center;}#sk-container-id-1 label.sk-toggleable__label-arrow:before {content: \"▸\";float: left;margin-right: 0.25em;color: #696969;}#sk-container-id-1 label.sk-toggleable__label-arrow:hover:before {color: black;}#sk-container-id-1 div.sk-estimator:hover label.sk-toggleable__label-arrow:before {color: black;}#sk-container-id-1 div.sk-toggleable__content {max-height: 0;max-width: 0;overflow: hidden;text-align: left;background-color: #f0f8ff;}#sk-container-id-1 div.sk-toggleable__content pre {margin: 0.2em;color: black;border-radius: 0.25em;background-color: #f0f8ff;}#sk-container-id-1 input.sk-toggleable__control:checked~div.sk-toggleable__content {max-height: 200px;max-width: 100%;overflow: auto;}#sk-container-id-1 input.sk-toggleable__control:checked~label.sk-toggleable__label-arrow:before {content: \"▾\";}#sk-container-id-1 div.sk-estimator input.sk-toggleable__control:checked~label.sk-toggleable__label {background-color: #d4ebff;}#sk-container-id-1 div.sk-label input.sk-toggleable__control:checked~label.sk-toggleable__label {background-color: #d4ebff;}#sk-container-id-1 input.sk-hidden--visually {border: 0;clip: rect(1px 1px 1px 1px);clip: rect(1px, 1px, 1px, 1px);height: 1px;margin: -1px;overflow: hidden;padding: 0;position: absolute;width: 1px;}#sk-container-id-1 div.sk-estimator {font-family: monospace;background-color: #f0f8ff;border: 1px dotted black;border-radius: 0.25em;box-sizing: border-box;margin-bottom: 0.5em;}#sk-container-id-1 div.sk-estimator:hover {background-color: #d4ebff;}#sk-container-id-1 div.sk-parallel-item::after {content: \"\";width: 100%;border-bottom: 1px solid gray;flex-grow: 1;}#sk-container-id-1 div.sk-label:hover label.sk-toggleable__label {background-color: #d4ebff;}#sk-container-id-1 div.sk-serial::before {content: \"\";position: absolute;border-left: 1px solid gray;box-sizing: border-box;top: 0;bottom: 0;left: 50%;z-index: 0;}#sk-container-id-1 div.sk-serial {display: flex;flex-direction: column;align-items: center;background-color: white;padding-right: 0.2em;padding-left: 0.2em;position: relative;}#sk-container-id-1 div.sk-item {position: relative;z-index: 1;}#sk-container-id-1 div.sk-parallel {display: flex;align-items: stretch;justify-content: center;background-color: white;position: relative;}#sk-container-id-1 div.sk-item::before, #sk-container-id-1 div.sk-parallel-item::before {content: \"\";position: absolute;border-left: 1px solid gray;box-sizing: border-box;top: 0;bottom: 0;left: 50%;z-index: -1;}#sk-container-id-1 div.sk-parallel-item {display: flex;flex-direction: column;z-index: 1;position: relative;background-color: white;}#sk-container-id-1 div.sk-parallel-item:first-child::after {align-self: flex-end;width: 50%;}#sk-container-id-1 div.sk-parallel-item:last-child::after {align-self: flex-start;width: 50%;}#sk-container-id-1 div.sk-parallel-item:only-child::after {width: 0;}#sk-container-id-1 div.sk-dashed-wrapped {border: 1px dashed gray;margin: 0 0.4em 0.5em 0.4em;box-sizing: border-box;padding-bottom: 0.4em;background-color: white;}#sk-container-id-1 div.sk-label label {font-family: monospace;font-weight: bold;display: inline-block;line-height: 1.2em;}#sk-container-id-1 div.sk-label-container {text-align: center;}#sk-container-id-1 div.sk-container {/* jupyter's `normalize.less` sets `[hidden] { display: none; }` but bootstrap.min.css set `[hidden] { display: none !important; }` so we also need the `!important` here to be able to override the default hidden behavior on the sphinx rendered scikit-learn.org. See: https://github.com/scikit-learn/scikit-learn/issues/21755 */display: inline-block !important;position: relative;}#sk-container-id-1 div.sk-text-repr-fallback {display: none;}</style><div id=\"sk-container-id-1\" class=\"sk-top-container\"><div class=\"sk-text-repr-fallback\"><pre>RandomForestRegressor(random_state=1)</pre><b>In a Jupyter environment, please rerun this cell to show the HTML representation or trust the notebook. <br />On GitHub, the HTML representation is unable to render, please try loading this page with nbviewer.org.</b></div><div class=\"sk-container\" hidden><div class=\"sk-item\"><div class=\"sk-estimator sk-toggleable\"><input class=\"sk-toggleable__control sk-hidden--visually\" id=\"sk-estimator-id-1\" type=\"checkbox\" checked><label for=\"sk-estimator-id-1\" class=\"sk-toggleable__label sk-toggleable__label-arrow\">RandomForestRegressor</label><div class=\"sk-toggleable__content\"><pre>RandomForestRegressor(random_state=1)</pre></div></div></div></div></div>"
      ],
      "text/plain": [
       "RandomForestRegressor(random_state=1)"
      ]
     },
     "execution_count": 3,
     "metadata": {},
     "output_type": "execute_result"
    }
   ],
   "source": [
    "# To improve accuracy, create a new Random Forest model which you will train on all training data\n",
    "rf_model_on_full_data = RandomForestRegressor(random_state=1)\n",
    "\n",
    "# fit rf_model_on_full_data on all data from the training data\n",
    "rf_model_on_full_data.fit(X, y)"
   ]
  },
  {
   "cell_type": "markdown",
   "id": "bf2d57bb",
   "metadata": {
    "papermill": {
     "duration": 0.003338,
     "end_time": "2023-07-06T03:59:25.826415",
     "exception": false,
     "start_time": "2023-07-06T03:59:25.823077",
     "status": "completed"
    },
    "tags": []
   },
   "source": [
    "Now, read the file of \"test\" data, and apply your model to make predictions."
   ]
  },
  {
   "cell_type": "code",
   "execution_count": 4,
   "id": "c913fe09",
   "metadata": {
    "execution": {
     "iopub.execute_input": "2023-07-06T03:59:25.835122Z",
     "iopub.status.busy": "2023-07-06T03:59:25.834580Z",
     "iopub.status.idle": "2023-07-06T03:59:25.890739Z",
     "shell.execute_reply": "2023-07-06T03:59:25.889913Z"
    },
    "papermill": {
     "duration": 0.06303,
     "end_time": "2023-07-06T03:59:25.892926",
     "exception": false,
     "start_time": "2023-07-06T03:59:25.829896",
     "status": "completed"
    },
    "tags": []
   },
   "outputs": [
    {
     "name": "stdout",
     "output_type": "stream",
     "text": [
      "[127456.16 156361.   172348.25 ... 155347.   130054.1  229014.75]\n"
     ]
    }
   ],
   "source": [
    "# path to file you will use for predictions\n",
    "test_data_path = '../input/test.csv'\n",
    "\n",
    "# read test data file using pandas\n",
    "test_data = pd.read_csv(test_data_path)\n",
    "\n",
    "# create test_X which comes from test_data but includes only the columns you used for prediction.\n",
    "# The list of columns is stored in a variable called features\n",
    "test_X = test_data[features]\n",
    "\n",
    "# make predictions which we will submit. \n",
    "test_preds = rf_model_on_full_data.predict(test_X)\n",
    "\n",
    "print(test_preds)"
   ]
  },
  {
   "cell_type": "markdown",
   "id": "52823da4",
   "metadata": {
    "papermill": {
     "duration": 0.003421,
     "end_time": "2023-07-06T03:59:25.900335",
     "exception": false,
     "start_time": "2023-07-06T03:59:25.896914",
     "status": "completed"
    },
    "tags": []
   },
   "source": [
    "Before submitting, run a check to make sure your `test_preds` have the right format."
   ]
  },
  {
   "cell_type": "code",
   "execution_count": 5,
   "id": "e12c4167",
   "metadata": {
    "execution": {
     "iopub.execute_input": "2023-07-06T03:59:25.908688Z",
     "iopub.status.busy": "2023-07-06T03:59:25.908395Z",
     "iopub.status.idle": "2023-07-06T03:59:25.919240Z",
     "shell.execute_reply": "2023-07-06T03:59:25.918558Z"
    },
    "papermill": {
     "duration": 0.016934,
     "end_time": "2023-07-06T03:59:25.920840",
     "exception": false,
     "start_time": "2023-07-06T03:59:25.903906",
     "status": "completed"
    },
    "tags": []
   },
   "outputs": [
    {
     "data": {
      "application/javascript": [
       "parent.postMessage({\"jupyterEvent\": \"custom.exercise_interaction\", \"data\": {\"outcomeType\": 1, \"valueTowardsCompletion\": 1.0, \"interactionType\": 1, \"questionType\": 2, \"questionId\": \"1_CheckSubmittablePreds\", \"learnToolsVersion\": \"0.3.4\", \"failureMessage\": \"\", \"exceptionClass\": \"\", \"trace\": \"\"}}, \"*\")"
      ],
      "text/plain": [
       "<IPython.core.display.Javascript object>"
      ]
     },
     "metadata": {},
     "output_type": "display_data"
    },
    {
     "data": {
      "text/markdown": [
       "<span style=\"color:#33cc33\">Correct</span>"
      ],
      "text/plain": [
       "Correct"
      ]
     },
     "metadata": {},
     "output_type": "display_data"
    },
    {
     "data": {
      "application/javascript": [
       "parent.postMessage({\"jupyterEvent\": \"custom.exercise_interaction\", \"data\": {\"interactionType\": 3, \"questionType\": 2, \"questionId\": \"1_CheckSubmittablePreds\", \"learnToolsVersion\": \"0.3.4\", \"valueTowardsCompletion\": 0.0, \"failureMessage\": \"\", \"exceptionClass\": \"\", \"trace\": \"\", \"outcomeType\": 4}}, \"*\")"
      ],
      "text/plain": [
       "<IPython.core.display.Javascript object>"
      ]
     },
     "metadata": {},
     "output_type": "display_data"
    },
    {
     "data": {
      "text/markdown": [
       "<span style=\"color:#33cc99\">Solution:</span> \n",
       "```python\n",
       "\n",
       "# In previous code cell\n",
       "rf_model_on_full_data = RandomForestRegressor()\n",
       "rf_model_on_full_data.fit(X, y)\n",
       "\n",
       "# Then in last code cell\n",
       "test_data_path = '../input/test.csv'\n",
       "test_data = pd.read_csv(test_data_path)\n",
       "test_X = test_data[features]\n",
       "test_preds = rf_model_on_full_data.predict(test_X)\n",
       "\n",
       "\n",
       "output = pd.DataFrame({'Id': test_data.Id,\n",
       "                       'SalePrice': test_preds})\n",
       "output.to_csv('submission.csv', index=False)\n",
       "\n",
       "```"
      ],
      "text/plain": [
       "Solution: \n",
       "```python\n",
       "\n",
       "# In previous code cell\n",
       "rf_model_on_full_data = RandomForestRegressor()\n",
       "rf_model_on_full_data.fit(X, y)\n",
       "\n",
       "# Then in last code cell\n",
       "test_data_path = '../input/test.csv'\n",
       "test_data = pd.read_csv(test_data_path)\n",
       "test_X = test_data[features]\n",
       "test_preds = rf_model_on_full_data.predict(test_X)\n",
       "\n",
       "\n",
       "output = pd.DataFrame({'Id': test_data.Id,\n",
       "                       'SalePrice': test_preds})\n",
       "output.to_csv('submission.csv', index=False)\n",
       "\n",
       "```"
      ]
     },
     "metadata": {},
     "output_type": "display_data"
    }
   ],
   "source": [
    "# Check your answer (To get credit for completing the exercise, you must get a \"Correct\" result!)\n",
    "step_1.check()\n",
    "step_1.solution()"
   ]
  },
  {
   "cell_type": "markdown",
   "id": "9f6b5773",
   "metadata": {
    "papermill": {
     "duration": 0.003787,
     "end_time": "2023-07-06T03:59:25.928906",
     "exception": false,
     "start_time": "2023-07-06T03:59:25.925119",
     "status": "completed"
    },
    "tags": []
   },
   "source": []
  },
  {
   "cell_type": "markdown",
   "id": "a6eec756",
   "metadata": {
    "papermill": {
     "duration": 0.003882,
     "end_time": "2023-07-06T03:59:25.936712",
     "exception": false,
     "start_time": "2023-07-06T03:59:25.932830",
     "status": "completed"
    },
    "tags": []
   },
   "source": []
  },
  {
   "cell_type": "markdown",
   "id": "0fee4e64",
   "metadata": {
    "papermill": {
     "duration": 0.003797,
     "end_time": "2023-07-06T03:59:25.944490",
     "exception": false,
     "start_time": "2023-07-06T03:59:25.940693",
     "status": "completed"
    },
    "tags": []
   },
   "source": [
    "# Generate a submission\n",
    "\n",
    "Run the code cell below to generate a CSV file with your predictions that you can use to submit to the competition."
   ]
  },
  {
   "cell_type": "code",
   "execution_count": 6,
   "id": "7100a7ef",
   "metadata": {
    "execution": {
     "iopub.execute_input": "2023-07-06T03:59:25.954289Z",
     "iopub.status.busy": "2023-07-06T03:59:25.953752Z",
     "iopub.status.idle": "2023-07-06T03:59:25.972727Z",
     "shell.execute_reply": "2023-07-06T03:59:25.971448Z"
    },
    "papermill": {
     "duration": 0.02593,
     "end_time": "2023-07-06T03:59:25.974377",
     "exception": false,
     "start_time": "2023-07-06T03:59:25.948447",
     "status": "completed"
    },
    "tags": []
   },
   "outputs": [
    {
     "name": "stdout",
     "output_type": "stream",
     "text": [
      "        Id  SalePrice\n",
      "0     1461  127456.16\n",
      "1     1462  156361.00\n",
      "2     1463  172348.25\n",
      "3     1464  182764.90\n",
      "4     1465  193334.96\n",
      "...    ...        ...\n",
      "1454  2915   85580.00\n",
      "1455  2916   81688.00\n",
      "1456  2917  155347.00\n",
      "1457  2918  130054.10\n",
      "1458  2919  229014.75\n",
      "\n",
      "[1459 rows x 2 columns]\n"
     ]
    }
   ],
   "source": [
    "# Run the code to save predictions in the format used for competition scoring\n",
    "\n",
    "output = pd.DataFrame({'Id': test_data.Id,\n",
    "                       'SalePrice': test_preds})\n",
    "print(output)\n",
    "output.to_csv('submission.csv', index=False)"
   ]
  },
  {
   "cell_type": "markdown",
   "id": "a40cfbb5",
   "metadata": {
    "papermill": {
     "duration": 0.003812,
     "end_time": "2023-07-06T03:59:25.982427",
     "exception": false,
     "start_time": "2023-07-06T03:59:25.978615",
     "status": "completed"
    },
    "tags": []
   },
   "source": [
    "# Submit to the competition\n",
    "\n",
    "To test your results, you'll need to join the competition (if you haven't already).  So open a new window by clicking on **[this link](https://www.kaggle.com/c/home-data-for-ml-course)**.  Then click on the **Join Competition** button.\n",
    "\n",
    "![join competition image](https://storage.googleapis.com/kaggle-media/learn/images/axBzctl.png)\n",
    "\n",
    "Next, follow the instructions below:\n",
    "1. Begin by clicking on the **Save Version** button in the top right corner of the window.  This will generate a pop-up window.  \n",
    "2. Ensure that the **Save and Run All** option is selected, and then click on the **Save** button.\n",
    "3. This generates a window in the bottom left corner of the notebook.  After it has finished running, click on the number to the right of the **Save Version** button.  This pulls up a list of versions on the right of the screen.  Click on the ellipsis **(...)** to the right of the most recent version, and select **Open in Viewer**.  This brings you into view mode of the same page. You will need to scroll down to get back to these instructions.\n",
    "4. Click on the **Data** tab near the top of the screen.  Then, click on the file you would like to submit, and click on the **Submit** button to submit your results to the leaderboard.\n",
    "\n",
    "You have now successfully submitted to the competition!\n",
    "\n",
    "If you want to keep working to improve your performance, select the **Edit** button in the top right of the screen. Then you can change your code and repeat the process. There's a lot of room to improve, and you will climb up the leaderboard as you work.\n",
    "\n",
    "\n",
    "# Continue Your Progress\n",
    "There are many ways to improve your model, and **experimenting is a great way to learn at this point.**\n",
    "\n",
    "The best way to improve your model is to add features.  To add more features to the data, revisit the first code cell, and change this line of code to include more column names:\n",
    "```python\n",
    "features = ['LotArea', 'YearBuilt', '1stFlrSF', '2ndFlrSF', 'FullBath', 'BedroomAbvGr', 'TotRmsAbvGrd']\n",
    "```\n",
    "\n",
    "Some features will cause errors because of issues like missing values or non-numeric data types.  Here is a complete list of potential columns that you might like to use, and that won't throw errors:\n",
    "- 'MSSubClass'\n",
    "- 'LotArea'\n",
    "- 'OverallQual' \n",
    "- 'OverallCond' \n",
    "- 'YearBuilt'\n",
    "- 'YearRemodAdd' \n",
    "- '1stFlrSF'\n",
    "- '2ndFlrSF' \n",
    "- 'LowQualFinSF' \n",
    "- 'GrLivArea'\n",
    "- 'FullBath'\n",
    "- 'HalfBath'\n",
    "- 'BedroomAbvGr' \n",
    "- 'KitchenAbvGr' \n",
    "- 'TotRmsAbvGrd' \n",
    "- 'Fireplaces' \n",
    "- 'WoodDeckSF' \n",
    "- 'OpenPorchSF'\n",
    "- 'EnclosedPorch' \n",
    "- '3SsnPorch' \n",
    "- 'ScreenPorch' \n",
    "- 'PoolArea' \n",
    "- 'MiscVal' \n",
    "- 'MoSold' \n",
    "- 'YrSold'\n",
    "\n",
    "Look at the list of columns and think about what might affect home prices.  To learn more about each of these features, take a look at the data description on the **[competition page](https://www.kaggle.com/c/home-data-for-ml-course/data)**.\n",
    "\n",
    "After updating the code cell above that defines the features, re-run all of the code cells to evaluate the model and generate a new submission file.  \n",
    "\n",
    "\n",
    "# What's next?\n",
    "\n",
    "As mentioned above, some of the features will throw an error if you try to use them to train your model.  The **[Intermediate Machine Learning](https://www.kaggle.com/learn/intermediate-machine-learning)** course will teach you how to handle these types of features. You will also learn to use **xgboost**, a technique giving even better accuracy than Random Forest.\n",
    "\n",
    "The **[Pandas](https://kaggle.com/Learn/Pandas)** course will give you the data manipulation skills to quickly go from conceptual idea to implementation in your data science projects. \n",
    "\n",
    "You are also ready for the **[Deep Learning](https://kaggle.com/Learn/intro-to-Deep-Learning)** course, where you will build models with better-than-human level performance at computer vision tasks."
   ]
  },
  {
   "cell_type": "markdown",
   "id": "bbce2fe9",
   "metadata": {
    "papermill": {
     "duration": 0.003909,
     "end_time": "2023-07-06T03:59:25.990320",
     "exception": false,
     "start_time": "2023-07-06T03:59:25.986411",
     "status": "completed"
    },
    "tags": []
   },
   "source": [
    "---\n",
    "\n",
    "\n",
    "\n",
    "\n",
    "*Have questions or comments? Visit the [course discussion forum](https://www.kaggle.com/learn/intro-to-machine-learning/discussion) to chat with other learners.*"
   ]
  }
 ],
 "metadata": {
  "kernelspec": {
   "display_name": "Python 3",
   "language": "python",
   "name": "python3"
  },
  "language_info": {
   "codemirror_mode": {
    "name": "ipython",
    "version": 3
   },
   "file_extension": ".py",
   "mimetype": "text/x-python",
   "name": "python",
   "nbconvert_exporter": "python",
   "pygments_lexer": "ipython3",
   "version": "3.10.10"
  },
  "papermill": {
   "default_parameters": {},
   "duration": 12.469432,
   "end_time": "2023-07-06T03:59:26.815280",
   "environment_variables": {},
   "exception": null,
   "input_path": "__notebook__.ipynb",
   "output_path": "__notebook__.ipynb",
   "parameters": {},
   "start_time": "2023-07-06T03:59:14.345848",
   "version": "2.4.0"
  }
 },
 "nbformat": 4,
 "nbformat_minor": 5
}
